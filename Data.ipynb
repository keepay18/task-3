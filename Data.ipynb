{
 "cells": [
  {
   "cell_type": "code",
   "execution_count": 22,
   "id": "89b9c0f6",
   "metadata": {},
   "outputs": [
    {
     "name": "stdout",
     "output_type": "stream",
     "text": [
      "{'Venezuela': 8.35, 'Switzerland': 7.04, 'Norway': 6.3, 'Sweden': 6.2, 'States': 5.65}\n"
     ]
    },
    {
     "data": {
      "image/png": "[encoded data removed]",
      "text/plain": [
       "<Figure size 432x288 with 1 Axes>"
      ]
     },
     "metadata": {
      "needs_background": "light"
     },
     "output_type": "display_data"
    }
   ],
   "source": [
    "import pandas as pd\n",
    "import requests\n",
    "import itertools\n",
    "import matplotlib.pyplot as plt\n",
    "\n",
    "api_key = \"TVs8ffu3J_DwSH89U4Xy\"\n",
    "\n",
    "df = pd.read_csv('ECONOMIST_metadata.csv')\n",
    "first_column = list(df.iloc[:, 0])\n",
    "\n",
    "list_of_nations = []\n",
    "\n",
    "dollar_prices = {}\n",
    "\n",
    "for i in first_column:\n",
    "    list_of_nations.append(i[-3:])\n",
    "\n",
    "for nation in list_of_nations:\n",
    "    response = requests.get(\n",
    "        \"https://data.nasdaq.com/api/v3/datasets/ECONOMIST/BIGMAC_\"+nation+\".json?api_key=\"+api_key)\n",
    "\n",
    "    if response.ok == True:\n",
    "        data = response.json()\n",
    "        name = data[\"dataset\"][\"name\"].split()[-1]\n",
    "        dollar_price = round(data[\"dataset\"][\"data\"][1][3], 2)\n",
    "        dollar_prices[name] = dollar_price\n",
    "    else:\n",
    "        None\n",
    "\n",
    "sorted_dict = {k: v for k, v in sorted(\n",
    "    dollar_prices.items(), key=lambda v: v[1], reverse=True)}\n",
    "\n",
    "dict_of_5_biggest_dollars_values = dict(\n",
    "    itertools.islice(sorted_dict.items(), 5))\n",
    "\n",
    "print(dict_of_5_biggest_dollars_values)\n",
    "\n",
    "\n",
    "countries = list(dict_of_5_biggest_dollars_values.keys())\n",
    "sorted_dolar_prices = list(dict_of_5_biggest_dollars_values.values())\n",
    "\n",
    "plt.bar(countries, sorted_dolar_prices)\n",
    "plt.title(\"Top 5 Countries with the Biggest Big Mac index on 31.07.2021 (in Dollars)\")\n",
    "plt.xlabel(\"Countries\")\n",
    "plt.ylabel(\"Dollars\")\n",
    "plt.show()\n",
    "\n",
    "\n"
   ]
  },
  {
   "cell_type": "code",
   "execution_count": null,
   "id": "d42a7308",
   "metadata": {},
   "outputs": [],
   "source": []
  }
 ],
 "metadata": {
  "kernelspec": {
   "display_name": "Python 3 (ipykernel)",
   "language": "python",
   "name": "python3"
  },
  "language_info": {
   "codemirror_mode": {
    "name": "ipython",
    "version": 3
   },
   "file_extension": ".py",
   "mimetype": "text/x-python",
   "name": "python",
   "nbconvert_exporter": "python",
   "pygments_lexer": "ipython3",
   "version": "3.9.7"
  }
 },
 "nbformat": 4,
 "nbformat_minor": 5
}
